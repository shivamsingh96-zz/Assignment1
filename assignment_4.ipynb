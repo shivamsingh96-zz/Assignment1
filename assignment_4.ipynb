{
 "cells": [
  {
   "cell_type": "code",
   "execution_count": 7,
   "metadata": {},
   "outputs": [
    {
     "data": {
      "text/plain": [
       "0.0303030303030303"
      ]
     },
     "execution_count": 7,
     "metadata": {},
     "output_type": "execute_result"
    }
   ],
   "source": [
    "#Question 1\n",
    "\n",
    "def prob(A,B,C):\n",
    "    \n",
    "    C=(C*B)/A\n",
    "    \n",
    "    return (C)\n",
    "\n",
    "prob(11/36,6/36,2/36)"
   ]
  },
  {
   "cell_type": "code",
   "execution_count": null,
   "metadata": {},
   "outputs": [],
   "source": [
    "#Question 2\n",
    "\n",
    "# bag1 4w 6 bl\n",
    "# bag2 4w 3 bl\n",
    "# prob a ball is drawn prob of its from bag 1"
   ]
  },
  {
   "cell_type": "code",
   "execution_count": 9,
   "metadata": {},
   "outputs": [
    {
     "data": {
      "text/plain": [
       "0.5833333333333334"
      ]
     },
     "execution_count": 9,
     "metadata": {},
     "output_type": "execute_result"
    }
   ],
   "source": [
    "def pro(E1,E2):\n",
    "    \n",
    "    pbE1 = 6/10\n",
    "    pbE2 = 3/7\n",
    "    \n",
    "    pE1b = (pbE1*E1)/((pbE1*E1)+(pbE2*E2))\n",
    "    \n",
    "    return (pE1b)\n",
    "\n",
    "pro(1/2,1/2)"
   ]
  },
  {
   "cell_type": "code",
   "execution_count": 11,
   "metadata": {},
   "outputs": [
    {
     "data": {
      "text/plain": [
       "0.2857142857142857"
      ]
     },
     "execution_count": 11,
     "metadata": {},
     "output_type": "execute_result"
    }
   ],
   "source": [
    "#Question 3\n",
    "\n",
    "def pr(S1,S2):\n",
    "    \n",
    "    ptS1 = 2/3\n",
    "    ptS2 = 1/3\n",
    "    \n",
    "    pS1t = (ptS1*S1)/((ptS1*S1)+(ptS2*S2))\n",
    "    \n",
    "    return (pS1t)\n",
    "\n",
    "pr(1/6,5/6)"
   ]
  }
 ],
 "metadata": {
  "kernelspec": {
   "display_name": "Python 3",
   "language": "python",
   "name": "python3"
  },
  "language_info": {
   "codemirror_mode": {
    "name": "ipython",
    "version": 3
   },
   "file_extension": ".py",
   "mimetype": "text/x-python",
   "name": "python",
   "nbconvert_exporter": "python",
   "pygments_lexer": "ipython3",
   "version": "3.6.5"
  }
 },
 "nbformat": 4,
 "nbformat_minor": 2
}
