{
 "cells": [
  {
   "cell_type": "code",
   "execution_count": 42,
   "metadata": {},
   "outputs": [
    {
     "data": {
      "text/plain": [
       "4.5"
      ]
     },
     "execution_count": 42,
     "metadata": {},
     "output_type": "execute_result"
    }
   ],
   "source": [
    "#Question 1\n",
    "import numpy as np\n",
    "a=[]\n",
    "for i in range(10):\n",
    "    a.append(np.random.randint(10))\n",
    "a=np.array(a)\n",
    "a=a.reshape(10,1)\n",
    "np.mean(a)\n"
   ]
  },
  {
   "cell_type": "code",
   "execution_count": 48,
   "metadata": {},
   "outputs": [
    {
     "name": "stdout",
     "output_type": "stream",
     "text": [
      "26.347500000000004\n",
      "5.132981589680602\n"
     ]
    }
   ],
   "source": [
    "#Question 2\n",
    "import numpy as np\n",
    "a=[]\n",
    "for i in range(20):\n",
    "    a.append(np.random.randint(20))\n",
    "a=np.array(a)\n",
    "a=a.reshape(20,1)\n",
    "print (np.var(a))\n",
    "print (np.std(a))\n"
   ]
  },
  {
   "cell_type": "code",
   "execution_count": 62,
   "metadata": {},
   "outputs": [
    {
     "data": {
      "text/plain": [
       "589440"
      ]
     },
     "execution_count": 62,
     "metadata": {},
     "output_type": "execute_result"
    }
   ],
   "source": [
    "#Question 3\n",
    "import numpy as np\n",
    "a=[]\n",
    "for i in range (200):\n",
    "    a.append(np.random.randint(20))\n",
    "a=np.matrix(a)\n",
    "a=a.reshape(10,20)\n",
    "b=[]\n",
    "for i in range (500):\n",
    "    b.append(np.random.randint(25))\n",
    "b=np.matrix(b)\n",
    "b=b.reshape(20,25)\n",
    "c=np.dot(a,b)\n",
    "\n",
    "np.sum(c)\n",
    "\n",
    "\n"
   ]
  },
  {
   "cell_type": "code",
   "execution_count": 88,
   "metadata": {},
   "outputs": [
    {
     "data": {
      "text/plain": [
       "array([[0.5       ],\n",
       "       [0.73105858],\n",
       "       [0.88079708],\n",
       "       [0.95257413],\n",
       "       [0.98201379],\n",
       "       [0.99330715],\n",
       "       [0.99752738],\n",
       "       [0.99908895],\n",
       "       [0.99966465],\n",
       "       [0.99987661]])"
      ]
     },
     "execution_count": 88,
     "metadata": {},
     "output_type": "execute_result"
    }
   ],
   "source": [
    "#Question 4\n",
    "import numpy as np\n",
    "def NumpyArrayExample():\n",
    "    array=np.arange(10)\n",
    "    func = []\n",
    "    array=array.reshape(10,1)\n",
    "    for i in array:\n",
    "        func.append(1/(1+np.exp(-i)))\n",
    "    func=np.array(func)\n",
    "    return func\n",
    "NumpyArrayExample()"
   ]
  },
  {
   "cell_type": "code",
   "execution_count": 74,
   "metadata": {},
   "outputs": [
    {
     "data": {
      "text/plain": [
       "148.4131591025766"
      ]
     },
     "execution_count": 74,
     "metadata": {},
     "output_type": "execute_result"
    }
   ],
   "source": []
  }
 ],
 "metadata": {
  "kernelspec": {
   "display_name": "Python 3",
   "language": "python",
   "name": "python3"
  },
  "language_info": {
   "codemirror_mode": {
    "name": "ipython",
    "version": 3
   },
   "file_extension": ".py",
   "mimetype": "text/x-python",
   "name": "python",
   "nbconvert_exporter": "python",
   "pygments_lexer": "ipython3",
   "version": "3.6.5"
  }
 },
 "nbformat": 4,
 "nbformat_minor": 2
}
